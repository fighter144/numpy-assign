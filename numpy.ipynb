{
 "cells": [
  {
   "cell_type": "code",
   "execution_count": 7,
   "id": "ce4a662b-e708-4dd1-89c7-f4b22757d9c0",
   "metadata": {},
   "outputs": [],
   "source": [
    "import numpy as np"
   ]
  },
  {
   "cell_type": "code",
   "execution_count": 2,
   "id": "6ae763b1-5b91-4f7b-9287-2f355c501b58",
   "metadata": {},
   "outputs": [],
   "source": [
    "#Q1. Create a 3x3 NumPy array with random integers between 1 and 100. Then, interchange its rows and columns?"
   ]
  },
  {
   "cell_type": "code",
   "execution_count": 5,
   "id": "e5329e97-f15c-4f53-abd1-40ac4085d39c",
   "metadata": {},
   "outputs": [
    {
     "data": {
      "text/plain": [
       "array([[31, 86, 45],\n",
       "       [63, 73, 76],\n",
       "       [54, 96,  7]])"
      ]
     },
     "execution_count": 5,
     "metadata": {},
     "output_type": "execute_result"
    }
   ],
   "source": [
    "arr=np.random.randint(1,101,(3,3))\n",
    "arr"
   ]
  },
  {
   "cell_type": "code",
   "execution_count": 6,
   "id": "53b9ffd0-d387-4337-bdc3-0ecc0aded59f",
   "metadata": {},
   "outputs": [
    {
     "data": {
      "text/plain": [
       "array([[31, 63, 54],\n",
       "       [86, 73, 96],\n",
       "       [45, 76,  7]])"
      ]
     },
     "execution_count": 6,
     "metadata": {},
     "output_type": "execute_result"
    }
   ],
   "source": [
    "#Interchange Rows and col:\n",
    "arr.T"
   ]
  },
  {
   "cell_type": "code",
   "execution_count": 7,
   "id": "c7975c46-1da8-4912-8186-fec5b1848219",
   "metadata": {},
   "outputs": [],
   "source": [
    "#Q2 Generate a 1D NumPy array with 10 elements. Reshape it into a 2x5 array, then into a 5x2 array?"
   ]
  },
  {
   "cell_type": "code",
   "execution_count": 9,
   "id": "6e85a077-5064-4c05-b46d-dfa2219e6c95",
   "metadata": {},
   "outputs": [
    {
     "data": {
      "text/plain": [
       "array([ 1,  4,  2,  6,  8,  9, 11, 12,  3, 10])"
      ]
     },
     "execution_count": 9,
     "metadata": {},
     "output_type": "execute_result"
    }
   ],
   "source": [
    "arr=np.array([1,4,2,6,8,9,11,12,3,10])\n",
    "arr"
   ]
  },
  {
   "cell_type": "code",
   "execution_count": 10,
   "id": "2e575821-8743-42f6-b6fc-61168767c1d9",
   "metadata": {},
   "outputs": [
    {
     "data": {
      "text/plain": [
       "array([[ 1,  4,  2,  6,  8],\n",
       "       [ 9, 11, 12,  3, 10]])"
      ]
     },
     "execution_count": 10,
     "metadata": {},
     "output_type": "execute_result"
    }
   ],
   "source": [
    "np.reshape(arr,(2,5))    #Reshaping array to 2*5"
   ]
  },
  {
   "cell_type": "code",
   "execution_count": 11,
   "id": "1000318d-519d-48bc-b6e5-e8819f4995fe",
   "metadata": {},
   "outputs": [
    {
     "data": {
      "text/plain": [
       "array([[ 1,  4],\n",
       "       [ 2,  6],\n",
       "       [ 8,  9],\n",
       "       [11, 12],\n",
       "       [ 3, 10]])"
      ]
     },
     "execution_count": 11,
     "metadata": {},
     "output_type": "execute_result"
    }
   ],
   "source": [
    "np.reshape(arr,(5,2))     #Reshape array to 5*2"
   ]
  },
  {
   "cell_type": "code",
   "execution_count": 12,
   "id": "b1e2c694-fc0e-4d9f-bbf6-a4c981b2de9e",
   "metadata": {},
   "outputs": [],
   "source": [
    "#Q3 Create a 4x4 NumPy array with random float values. Add a border of zeros around it, resulting in a 6x6 array?"
   ]
  },
  {
   "cell_type": "code",
   "execution_count": 60,
   "id": "12e3014d-e5ff-4fdc-9e1e-223f1b3f6f7e",
   "metadata": {},
   "outputs": [
    {
     "data": {
      "text/plain": [
       "array([[0.02943506, 0.80475581, 0.88664878, 0.6500709 ],\n",
       "       [0.90212312, 0.19954705, 0.40880769, 0.87625167],\n",
       "       [0.71783759, 0.33042593, 0.05582851, 0.51024899],\n",
       "       [0.00189942, 0.04029046, 0.3394669 , 0.42257405]])"
      ]
     },
     "execution_count": 60,
     "metadata": {},
     "output_type": "execute_result"
    }
   ],
   "source": [
    "arr=np.random.rand(4,4)\n",
    "arr"
   ]
  },
  {
   "cell_type": "code",
   "execution_count": 70,
   "id": "b03aa636-29ff-4609-a7ce-47e84ba7ecfe",
   "metadata": {},
   "outputs": [
    {
     "data": {
      "text/plain": [
       "array([[0., 0., 0., 0., 0., 0.],\n",
       "       [0., 0., 0., 0., 0., 0.],\n",
       "       [0., 0., 0., 0., 0., 0.],\n",
       "       [0., 0., 0., 0., 0., 0.],\n",
       "       [0., 0., 0., 0., 0., 0.],\n",
       "       [0., 0., 0., 0., 0., 0.]])"
      ]
     },
     "execution_count": 70,
     "metadata": {},
     "output_type": "execute_result"
    }
   ],
   "source": [
    "arr2=np.zeros((6,6))\n",
    "arr2"
   ]
  },
  {
   "cell_type": "code",
   "execution_count": 76,
   "id": "293bb584-5d68-4a9a-a4e7-a0c5f92558ad",
   "metadata": {},
   "outputs": [],
   "source": [
    "arr2[1:5,1:5]+=arr"
   ]
  },
  {
   "cell_type": "code",
   "execution_count": 67,
   "id": "99ae9544-47b3-4153-aad9-28b6553daa34",
   "metadata": {},
   "outputs": [],
   "source": [
    "#Q4 Using NumPy, create an array of integers from 10 to 60 with a step of 5?"
   ]
  },
  {
   "cell_type": "code",
   "execution_count": 28,
   "id": "f4ade37f-8a56-4f08-a486-fa06d18c3146",
   "metadata": {},
   "outputs": [
    {
     "data": {
      "text/plain": [
       "array([10, 15, 20, 25, 30, 35, 40, 45, 50, 55, 60])"
      ]
     },
     "execution_count": 28,
     "metadata": {},
     "output_type": "execute_result"
    }
   ],
   "source": [
    "arr=np.arange(10,61,5)\n",
    "arr"
   ]
  },
  {
   "cell_type": "code",
   "execution_count": 29,
   "id": "d9b9a75b-40cd-4a97-88ec-991e7287714e",
   "metadata": {},
   "outputs": [],
   "source": [
    "#Q5  Create a NumPy array of strings ['python', 'numpy', 'pandas']. Apply different case transformations(uppercase, lowercase, title case, etc.) to each element?"
   ]
  },
  {
   "cell_type": "code",
   "execution_count": 31,
   "id": "7197cc80-6706-485c-8f61-095ab7a79646",
   "metadata": {},
   "outputs": [
    {
     "data": {
      "text/plain": [
       "array(['Python', 'Numpy', 'Pandas'], dtype='<U6')"
      ]
     },
     "execution_count": 31,
     "metadata": {},
     "output_type": "execute_result"
    }
   ],
   "source": [
    "arrs=[\"python\",\"numpy\",\"pandas\"]\n",
    "np.char.capitalize(arrs)   #To capitalize all str characters of array"
   ]
  },
  {
   "cell_type": "code",
   "execution_count": 33,
   "id": "f6d85176-6603-4ba9-bc0c-5959f23bcf2e",
   "metadata": {},
   "outputs": [
    {
     "data": {
      "text/plain": [
       "array(['PYTHON', 'NUMPY', 'PANDAS'], dtype='<U6')"
      ]
     },
     "execution_count": 33,
     "metadata": {},
     "output_type": "execute_result"
    }
   ],
   "source": [
    "np.char.upper(arrs)    #Conversion to Upper Case"
   ]
  },
  {
   "cell_type": "code",
   "execution_count": 34,
   "id": "7a38a0c9-1461-4b12-8a4b-737c9598118e",
   "metadata": {},
   "outputs": [
    {
     "data": {
      "text/plain": [
       "array(['Python', 'Numpy', 'Pandas'], dtype='<U6')"
      ]
     },
     "execution_count": 34,
     "metadata": {},
     "output_type": "execute_result"
    }
   ],
   "source": [
    "np.char.title(arrs)     #Conversion to Title"
   ]
  },
  {
   "cell_type": "code",
   "execution_count": 35,
   "id": "1e1e1115-3c18-4d94-a681-8fa437625ea6",
   "metadata": {},
   "outputs": [],
   "source": [
    "# Q6 Generate a NumPy array of words. Insert a space between each character of every word in the array?"
   ]
  },
  {
   "cell_type": "code",
   "execution_count": 29,
   "id": "b24be7fb-ebd8-41c9-9e7f-d2ec2f4e351b",
   "metadata": {},
   "outputs": [
    {
     "name": "stdout",
     "output_type": "stream",
     "text": [
      "<map object at 0x71232a5f5690>\n"
     ]
    }
   ],
   "source": [
    "x=np.array([\"pwskills\",\"data\"])"
   ]
  },
  {
   "cell_type": "code",
   "execution_count": 36,
   "id": "dbdd7c5a-12eb-48df-a879-f321e380c47e",
   "metadata": {},
   "outputs": [
    {
     "data": {
      "text/plain": [
       "array(['p w s k i l l s', 'd a t a'], dtype='<U15')"
      ]
     },
     "execution_count": 36,
     "metadata": {},
     "output_type": "execute_result"
    }
   ],
   "source": [
    "lis=[' '.join(x[0]),' '.join(x[1])]\n",
    "x=np.array(lis)\n",
    "x"
   ]
  },
  {
   "cell_type": "code",
   "execution_count": 43,
   "id": "2fda34e7-e5a4-4456-8af6-f273780a49fe",
   "metadata": {},
   "outputs": [],
   "source": [
    "# Q7 Create two 2D NumPy arrays and perform element-wise addition, subtraction, multiplication, and division?"
   ]
  },
  {
   "cell_type": "code",
   "execution_count": 45,
   "id": "6121df3e-e128-4be5-b533-7df68eff7e5c",
   "metadata": {},
   "outputs": [],
   "source": [
    "arr1=np.random.randint(1,5,(2,2))\n",
    "arr2=np.random.randint(5,9,(2,2))"
   ]
  },
  {
   "cell_type": "code",
   "execution_count": 46,
   "id": "bb37c78f-07bb-43bb-85a3-0ee3784c8584",
   "metadata": {},
   "outputs": [
    {
     "data": {
      "text/plain": [
       "array([[4, 1],\n",
       "       [1, 4]])"
      ]
     },
     "execution_count": 46,
     "metadata": {},
     "output_type": "execute_result"
    }
   ],
   "source": [
    "arr1"
   ]
  },
  {
   "cell_type": "code",
   "execution_count": 47,
   "id": "c180da6a-bc68-44c7-b74e-a7c6604df816",
   "metadata": {},
   "outputs": [
    {
     "data": {
      "text/plain": [
       "array([[8, 5],\n",
       "       [6, 7]])"
      ]
     },
     "execution_count": 47,
     "metadata": {},
     "output_type": "execute_result"
    }
   ],
   "source": [
    "arr2"
   ]
  },
  {
   "cell_type": "code",
   "execution_count": 48,
   "id": "cfcbad59-77a7-47aa-a82d-6e9c100751a2",
   "metadata": {},
   "outputs": [
    {
     "data": {
      "text/plain": [
       "array([[12,  6],\n",
       "       [ 7, 11]])"
      ]
     },
     "execution_count": 48,
     "metadata": {},
     "output_type": "execute_result"
    }
   ],
   "source": [
    "np.add(arr1,arr2)    #Element wise addition"
   ]
  },
  {
   "cell_type": "code",
   "execution_count": 49,
   "id": "62b4b47f-0526-4e3a-b74e-b8105d90b652",
   "metadata": {},
   "outputs": [
    {
     "data": {
      "text/plain": [
       "array([[-4, -4],\n",
       "       [-5, -3]])"
      ]
     },
     "execution_count": 49,
     "metadata": {},
     "output_type": "execute_result"
    }
   ],
   "source": [
    "np.subtract(arr1,arr2)   #Element wise Subtraction"
   ]
  },
  {
   "cell_type": "code",
   "execution_count": 50,
   "id": "aff2edac-7dfd-4382-9f85-0c0ec70b16a1",
   "metadata": {},
   "outputs": [
    {
     "data": {
      "text/plain": [
       "array([[32,  5],\n",
       "       [ 6, 28]])"
      ]
     },
     "execution_count": 50,
     "metadata": {},
     "output_type": "execute_result"
    }
   ],
   "source": [
    "np.multiply(arr1,arr2)    #Multiplication"
   ]
  },
  {
   "cell_type": "code",
   "execution_count": 51,
   "id": "fe699dfc-7e15-407e-b482-def8a6351de9",
   "metadata": {},
   "outputs": [
    {
     "data": {
      "text/plain": [
       "array([[0.5       , 0.2       ],\n",
       "       [0.16666667, 0.57142857]])"
      ]
     },
     "execution_count": 51,
     "metadata": {},
     "output_type": "execute_result"
    }
   ],
   "source": [
    "np.divide(arr1,arr2)    #Division"
   ]
  },
  {
   "cell_type": "code",
   "execution_count": 52,
   "id": "ee59de55-611e-410a-ab80-6b84a9555420",
   "metadata": {},
   "outputs": [],
   "source": [
    "#Q8 Use NumPy to create a 5x5 identity matrix, then extract its diagonal elements?"
   ]
  },
  {
   "cell_type": "code",
   "execution_count": 55,
   "id": "881d03b2-7a10-43c4-b75c-fedf1c92cc79",
   "metadata": {},
   "outputs": [
    {
     "data": {
      "text/plain": [
       "array([[1., 0., 0., 0., 0.],\n",
       "       [0., 1., 0., 0., 0.],\n",
       "       [0., 0., 1., 0., 0.],\n",
       "       [0., 0., 0., 1., 0.],\n",
       "       [0., 0., 0., 0., 1.]])"
      ]
     },
     "execution_count": 55,
     "metadata": {},
     "output_type": "execute_result"
    }
   ],
   "source": [
    "arr=np.eye(5)\n",
    "arr"
   ]
  },
  {
   "cell_type": "code",
   "execution_count": 56,
   "id": "c2eaa513-d5f3-4ad6-8549-74e32c023262",
   "metadata": {},
   "outputs": [
    {
     "data": {
      "text/plain": [
       "array([1., 1., 1., 1., 1.])"
      ]
     },
     "execution_count": 56,
     "metadata": {},
     "output_type": "execute_result"
    }
   ],
   "source": [
    "arr.diagonal()"
   ]
  },
  {
   "cell_type": "code",
   "execution_count": 57,
   "id": "ccb301fa-8ec4-4d0e-8c91-a7d8959c5fb8",
   "metadata": {},
   "outputs": [],
   "source": [
    "#Q9 Generate a NumPy array of 100 random integers between 0 and 1000. Find and display all prime numbers in this array?"
   ]
  },
  {
   "cell_type": "code",
   "execution_count": 4,
   "id": "d8b86dc6-94fc-49a7-9bb1-0fdf1ab72fce",
   "metadata": {},
   "outputs": [],
   "source": [
    "arr=np.random.randint(0,1000,100)\n",
    "lis=list(arr)"
   ]
  },
  {
   "cell_type": "code",
   "execution_count": 12,
   "id": "aef0cccd-581c-4ea0-b3ec-c2720bc7dab7",
   "metadata": {},
   "outputs": [
    {
     "data": {
      "text/plain": [
       "array([739,  19, 457, 937, 109, 271, 211, 593, 227, 457, 593, 211, 419,\n",
       "       523, 439, 353, 823, 503, 607, 641])"
      ]
     },
     "execution_count": 12,
     "metadata": {},
     "output_type": "execute_result"
    }
   ],
   "source": [
    "prime=[]\n",
    "for i in lis:\n",
    "    if i>1:\n",
    "        for j in range(2,i):\n",
    "            if i%j==0:\n",
    "                break\n",
    "        else:\n",
    "            prime.append(i)\n",
    "arr=np.array(prime)\n",
    "arr"
   ]
  },
  {
   "cell_type": "code",
   "execution_count": 14,
   "id": "952ffc56-a420-47ff-a1d6-6496032b4b5d",
   "metadata": {},
   "outputs": [],
   "source": [
    "#Q10 Create a NumPy array representing daily temperatures for a month. Calculate and display the weekly averages?"
   ]
  },
  {
   "cell_type": "code",
   "execution_count": 20,
   "id": "3a128f8b-3bf7-44cf-abec-12e42f773467",
   "metadata": {},
   "outputs": [
    {
     "data": {
      "text/plain": [
       "array([32, 21, 34, 27, 28, 28, 34, 26, 24, 34, 30, 28, 35, 35, 34, 24, 34,\n",
       "       30, 35, 32, 22, 32, 29, 24, 24, 23, 21, 25, 35, 35, 32])"
      ]
     },
     "execution_count": 20,
     "metadata": {},
     "output_type": "execute_result"
    }
   ],
   "source": [
    "temp=np.random.randint(21,36,31)\n",
    "temp"
   ]
  },
  {
   "cell_type": "code",
   "execution_count": 23,
   "id": "51a9e5e2-6e4e-4300-b7e2-c3f1a8655908",
   "metadata": {},
   "outputs": [
    {
     "data": {
      "text/plain": [
       "array([32, 21, 34, 27, 28, 28, 34, 26])"
      ]
     },
     "execution_count": 23,
     "metadata": {},
     "output_type": "execute_result"
    }
   ],
   "source": [
    "week1=temp[0:8]\n",
    "week2=temp[8:15]\n",
    "week3=temp[15:22]\n",
    "week["
   ]
  },
  {
   "cell_type": "code",
   "execution_count": 1,
   "id": "705c7364-391e-4a99-8668-1ce08c4ad388",
   "metadata": {},
   "outputs": [],
   "source": [
    "#Theory Questions"
   ]
  },
  {
   "cell_type": "code",
   "execution_count": 2,
   "id": "de3fdc27-7f71-4e9c-9cc0-243d5226edba",
   "metadata": {},
   "outputs": [],
   "source": [
    "#Q1  Explain the purpose and advantages of NumPy in scientific computing and data analysis. How does it enhance Python's capabilities for numerical operations?"
   ]
  },
  {
   "cell_type": "code",
   "execution_count": 4,
   "id": "4e5fd24f-6a30-46d8-8daa-c75cda59aa24",
   "metadata": {},
   "outputs": [
    {
     "name": "stdout",
     "output_type": "stream",
     "text": [
      "Numpy is one librabry present in python made by using C language to make calculation more faster\n",
      "\n",
      "It is Fast beacuse it store data in form of array which store only Homogeneous Data which makes it more fast as compared to normal mathematical operations in python.\n"
     ]
    }
   ],
   "source": [
    "ans='''Numpy is one librabry present in python made by using C language to make calculation more faster\\n\n",
    "It is Fast beacuse it store data in form of array which store only Homogeneous Data which makes it more fast as compared to normal mathematical operations in python.'''\n",
    "print(ans)"
   ]
  },
  {
   "cell_type": "code",
   "execution_count": 5,
   "id": "5b740b78-d70c-46e0-820d-2060a17ffe1f",
   "metadata": {},
   "outputs": [],
   "source": [
    "#Q2  Compare and contrast np.mean() and np.average() functions in NumPy. When would you use one over the other?"
   ]
  },
  {
   "cell_type": "code",
   "execution_count": 10,
   "id": "c1a5d3e7-ec1f-4d93-95bd-af1880ab1d5b",
   "metadata": {},
   "outputs": [
    {
     "data": {
      "text/plain": [
       "array([3, 2, 1, 4, 4, 2, 3, 1, 3, 2])"
      ]
     },
     "execution_count": 10,
     "metadata": {},
     "output_type": "execute_result"
    }
   ],
   "source": [
    "data=np.random.randint(1,5,10)\n",
    "data"
   ]
  },
  {
   "cell_type": "code",
   "execution_count": 14,
   "id": "792f38fe-3f67-4e1d-8f23-8d6a6cb86d57",
   "metadata": {},
   "outputs": [
    {
     "data": {
      "text/plain": [
       "2.5"
      ]
     },
     "execution_count": 14,
     "metadata": {},
     "output_type": "execute_result"
    }
   ],
   "source": [
    "np.average(data)   #Mostly used to find central data for small data"
   ]
  },
  {
   "cell_type": "code",
   "execution_count": 15,
   "id": "1c3d4035-3081-4b0e-9769-efca27e00bd7",
   "metadata": {},
   "outputs": [
    {
     "data": {
      "text/plain": [
       "0.5015121893951089"
      ]
     },
     "execution_count": 15,
     "metadata": {},
     "output_type": "execute_result"
    }
   ],
   "source": [
    "data2=np.random.rand(1,10,1000)\n",
    "np.mean(data2)         #Mostly used for large data in statistical terminology"
   ]
  },
  {
   "cell_type": "code",
   "execution_count": 17,
   "id": "d6f1feb4-88f4-4f0a-831f-3606b00930a0",
   "metadata": {},
   "outputs": [],
   "source": [
    "# Q3 Describe the methods for reversing a NumPy array along different axes. Provide examples for 1D and 2D arrays?"
   ]
  },
  {
   "cell_type": "code",
   "execution_count": 24,
   "id": "b2207a8f-6454-4fff-96bd-61112c0618a8",
   "metadata": {},
   "outputs": [
    {
     "data": {
      "text/plain": [
       "array([5, 4, 3, 2, 1])"
      ]
     },
     "execution_count": 24,
     "metadata": {},
     "output_type": "execute_result"
    }
   ],
   "source": [
    "lis=[1,2,3,4,5]\n",
    "np.flipud(lis)  #To reverse 1-D array data"
   ]
  },
  {
   "cell_type": "code",
   "execution_count": 25,
   "id": "c767d947-8c79-49a7-9ae8-021578a4ad07",
   "metadata": {},
   "outputs": [
    {
     "data": {
      "text/plain": [
       "array([5, 4, 3, 2, 1])"
      ]
     },
     "execution_count": 25,
     "metadata": {},
     "output_type": "execute_result"
    }
   ],
   "source": [
    "arr=np.array(lis)\n",
    "arr[::-1]      #2nd way to reverse array in 1-D"
   ]
  },
  {
   "cell_type": "code",
   "execution_count": 27,
   "id": "8c4e946b-cfde-4a91-bf28-2a314f77b69b",
   "metadata": {},
   "outputs": [
    {
     "data": {
      "text/plain": [
       "array([[1, 2, 3],\n",
       "       [4, 5, 6],\n",
       "       [7, 8, 9]])"
      ]
     },
     "execution_count": 27,
     "metadata": {},
     "output_type": "execute_result"
    }
   ],
   "source": [
    "#For 2-D array\n",
    "arr2=np.array([[1,2,3],[4,5,6],[7,8,9]])\n",
    "arr2"
   ]
  },
  {
   "cell_type": "code",
   "execution_count": 29,
   "id": "07677c82-3100-4752-8860-b6f943891dbd",
   "metadata": {},
   "outputs": [
    {
     "data": {
      "text/plain": [
       "array([[7, 8, 9],\n",
       "       [4, 5, 6],\n",
       "       [1, 2, 3]])"
      ]
     },
     "execution_count": 29,
     "metadata": {},
     "output_type": "execute_result"
    }
   ],
   "source": [
    "np.flip(arr2,axis=0)     #Revrse row wise only"
   ]
  },
  {
   "cell_type": "code",
   "execution_count": 30,
   "id": "b338295f-b1c8-4960-af92-67dbbbbeed30",
   "metadata": {},
   "outputs": [
    {
     "data": {
      "text/plain": [
       "array([[3, 2, 1],\n",
       "       [6, 5, 4],\n",
       "       [9, 8, 7]])"
      ]
     },
     "execution_count": 30,
     "metadata": {},
     "output_type": "execute_result"
    }
   ],
   "source": [
    "np.flip(arr2,axis=1)     #Reverse columnn wise"
   ]
  },
  {
   "cell_type": "code",
   "execution_count": 31,
   "id": "74cb3e45-52d7-430b-b8e2-6525ea68adad",
   "metadata": {},
   "outputs": [
    {
     "data": {
      "text/plain": [
       "array([[9, 8, 7],\n",
       "       [6, 5, 4],\n",
       "       [3, 2, 1]])"
      ]
     },
     "execution_count": 31,
     "metadata": {},
     "output_type": "execute_result"
    }
   ],
   "source": [
    "np.flip(arr2)      #Reverse in both ways"
   ]
  },
  {
   "cell_type": "code",
   "execution_count": 33,
   "id": "fb42dd28-82b9-4799-9736-b6814cffd1d4",
   "metadata": {},
   "outputs": [],
   "source": [
    "#Q4 How can you determine the data type of elements in a NumPy array? Discuss the importance of data types in memory management and performance?"
   ]
  },
  {
   "cell_type": "code",
   "execution_count": 43,
   "id": "315bdeb5-4144-4605-8f7b-c092bccb4a1a",
   "metadata": {},
   "outputs": [
    {
     "name": "stdout",
     "output_type": "stream",
     "text": [
      "int64\n"
     ]
    }
   ],
   "source": [
    "arr=np.array([1,2,3,4,5])\n",
    "print(arr.dtype)"
   ]
  },
  {
   "cell_type": "code",
   "execution_count": 46,
   "id": "9fd38ff8-d12a-45fa-a18e-b88efeee0b39",
   "metadata": {},
   "outputs": [
    {
     "name": "stdout",
     "output_type": "stream",
     "text": [
      "So, in above example dtype of arr is int\n",
      "we should choose data type wisely because it affects memory consumption and computational speed of data\n"
     ]
    }
   ],
   "source": [
    "print('''So, in above example dtype of arr is int\\nwe should choose data type wisely because it affects memory consumption and computational speed of data''')"
   ]
  },
  {
   "cell_type": "code",
   "execution_count": 47,
   "id": "7d3ee5e0-e88a-4c39-955a-259c03ef75ca",
   "metadata": {},
   "outputs": [],
   "source": [
    "#Q5  Define ndarrays in NumPy and explain their key features. How do they differ from standard Python lists?"
   ]
  },
  {
   "cell_type": "code",
   "execution_count": 49,
   "id": "9b53e002-7d84-416b-aeec-02fc6ad51c9c",
   "metadata": {},
   "outputs": [
    {
     "data": {
      "text/plain": [
       "2"
      ]
     },
     "execution_count": 49,
     "metadata": {},
     "output_type": "execute_result"
    }
   ],
   "source": [
    "arr=np.array([[1,2,3,4],[5,6,7,8]])\n",
    "np.ndim(arr)  #This show Dimension of array"
   ]
  },
  {
   "cell_type": "code",
   "execution_count": 50,
   "id": "e1baacda-e435-4d95-ba46-f51316c5611b",
   "metadata": {},
   "outputs": [
    {
     "data": {
      "text/plain": [
       "3"
      ]
     },
     "execution_count": 50,
     "metadata": {},
     "output_type": "execute_result"
    }
   ],
   "source": [
    "arr2=np.array([[[1,2,3,4],[5,6,7,8],[1,3,5,7]]])\n",
    "np.ndim(arr2)"
   ]
  },
  {
   "cell_type": "code",
   "execution_count": 51,
   "id": "86ad75fd-c480-490e-b50c-9c89511c60dd",
   "metadata": {},
   "outputs": [
    {
     "data": {
      "text/plain": [
       "'ndim is used to get information about dimension of array which is not present in normal list function of python\\nWith its help, we can store any dimension data in form of array like 1D, 2D, 3D----nD.'"
      ]
     },
     "execution_count": 51,
     "metadata": {},
     "output_type": "execute_result"
    }
   ],
   "source": [
    "'''ndim is used to get information about dimension of array which is not present in normal list function of python\n",
    "With its help, we can store any dimension data in form of array like 1D, 2D, 3D----nD.'''"
   ]
  },
  {
   "cell_type": "code",
   "execution_count": 52,
   "id": "3ec491b1-c502-4283-919c-b59f3603c933",
   "metadata": {},
   "outputs": [],
   "source": [
    "#Q6 Analyze the performance benefits of NumPy arrays over Python lists for large-scale numerical operations?"
   ]
  },
  {
   "cell_type": "code",
   "execution_count": 64,
   "id": "c27656c8-e048-4a1a-9874-9782e06eaac7",
   "metadata": {},
   "outputs": [
    {
     "name": "stdout",
     "output_type": "stream",
     "text": [
      "1249975000\n",
      "0.0007226869929581881\n"
     ]
    }
   ],
   "source": [
    "#Numpy have very high speed over list because it stores homogeneous data and list store any data type\n",
    "import time\n",
    "start=time.perf_counter()\n",
    "arr=np.arange(50000)\n",
    "print(np.sum(arr))\n",
    "end=time.perf_counter()\n",
    "print(end-start)"
   ]
  },
  {
   "cell_type": "code",
   "execution_count": 63,
   "id": "9a7295d2-014d-4f85-9f9d-d8adaa5bbe04",
   "metadata": {},
   "outputs": [
    {
     "name": "stdout",
     "output_type": "stream",
     "text": [
      "1249975000\n",
      "0.009954010136425495\n"
     ]
    }
   ],
   "source": [
    "#On the other hand for list\n",
    "start=time.perf_counter()\n",
    "lis=list(range(50000))\n",
    "sum=0\n",
    "for i in lis:\n",
    "    sum=sum+i\n",
    "print(sum)\n",
    "end=time.perf_counter()\n",
    "print(end-start)"
   ]
  },
  {
   "cell_type": "code",
   "execution_count": 65,
   "id": "d966d457-e778-4e01-a268-9a01fa9a731e",
   "metadata": {},
   "outputs": [
    {
     "name": "stdout",
     "output_type": "stream",
     "text": [
      "We can see the difference in time for both calculations, numpy is way more faster than list calculation\n",
      " And if same calculation is in crores, then time difference become more visible\n"
     ]
    }
   ],
   "source": [
    "ans='''We can see the difference in time for both calculations, numpy is way more faster than list calculation\\n And if same calculation is in crores, then time difference become more visible'''\n",
    "print(ans)"
   ]
  },
  {
   "cell_type": "code",
   "execution_count": 66,
   "id": "7445b787-2ca9-4cc6-af7e-e25050e1da8a",
   "metadata": {},
   "outputs": [],
   "source": [
    "#Q7 Compare vstack() and hstack() functions in NumPy. Provide examples demonstrating their usage and output?"
   ]
  },
  {
   "cell_type": "code",
   "execution_count": 70,
   "id": "10285a34-263f-4be4-85a4-2a49aacbd1d9",
   "metadata": {},
   "outputs": [
    {
     "data": {
      "text/plain": [
       "array([[1],\n",
       "       [2],\n",
       "       [3],\n",
       "       [4],\n",
       "       [5]])"
      ]
     },
     "execution_count": 70,
     "metadata": {},
     "output_type": "execute_result"
    }
   ],
   "source": [
    "arr=np.array([1,2,3,4,5])\n",
    "np.vstack(arr)     #Used to arrange data in vertical position"
   ]
  },
  {
   "cell_type": "code",
   "execution_count": 73,
   "id": "f439eefc-63a2-485a-9452-9d636394db48",
   "metadata": {},
   "outputs": [
    {
     "data": {
      "text/plain": [
       "array([1, 2, 3, 4, 5, 6])"
      ]
     },
     "execution_count": 73,
     "metadata": {},
     "output_type": "execute_result"
    }
   ],
   "source": [
    "np.hstack(np.array([[1,2,3],[4,5,6]]))   #2D data is converted to hstack that in form of horizontal array"
   ]
  },
  {
   "cell_type": "code",
   "execution_count": 74,
   "id": "ab6f16cc-2bc2-4e31-a3e9-bf4050d18e70",
   "metadata": {},
   "outputs": [],
   "source": [
    "#Q8  Explain the differences between fliplr() and flipud() methods in NumPy, including their effects on various array dimensions?"
   ]
  },
  {
   "cell_type": "code",
   "execution_count": 75,
   "id": "f56c35ef-b9fe-42d8-a862-95ac8bd7ee97",
   "metadata": {},
   "outputs": [
    {
     "data": {
      "text/plain": [
       "array([[1, 2, 3],\n",
       "       [4, 5, 6],\n",
       "       [7, 8, 9]])"
      ]
     },
     "execution_count": 75,
     "metadata": {},
     "output_type": "execute_result"
    }
   ],
   "source": [
    "#Both functions are used similar to roll function present in numpy, They are used to flip rows, col in 2D, 3d Arrays\n",
    "arr=np.array([[1,2,3],[4,5,6],[7,8,9]])\n",
    "arr"
   ]
  },
  {
   "cell_type": "code",
   "execution_count": 76,
   "id": "a20c4966-57db-4201-9728-0ce38109842d",
   "metadata": {},
   "outputs": [
    {
     "data": {
      "text/plain": [
       "array([[3, 2, 1],\n",
       "       [6, 5, 4],\n",
       "       [9, 8, 7]])"
      ]
     },
     "execution_count": 76,
     "metadata": {},
     "output_type": "execute_result"
    }
   ],
   "source": [
    "#fliplr function= flip left right column wise, it flip arr form left to righ columnwise\n",
    "np.fliplr(arr)"
   ]
  },
  {
   "cell_type": "code",
   "execution_count": 77,
   "id": "864dd477-a81b-47fa-a643-154506215f16",
   "metadata": {},
   "outputs": [
    {
     "data": {
      "text/plain": [
       "array([[7, 8, 9],\n",
       "       [4, 5, 6],\n",
       "       [1, 2, 3]])"
      ]
     },
     "execution_count": 77,
     "metadata": {},
     "output_type": "execute_result"
    }
   ],
   "source": [
    "#flipud= flip-up-down i.e it flip arr form up to down row-wise\n",
    "np.flipud(arr)"
   ]
  },
  {
   "cell_type": "code",
   "execution_count": 78,
   "id": "40259a20-b752-45b5-aeb8-726c0a8c2f48",
   "metadata": {},
   "outputs": [],
   "source": [
    "#Q9 Discuss the functionality of the array_split() method in NumPy. How does it handle uneven splits?"
   ]
  },
  {
   "cell_type": "code",
   "execution_count": 88,
   "id": "b4419743-61ce-41a8-a910-fe28a13530ee",
   "metadata": {},
   "outputs": [
    {
     "data": {
      "text/plain": [
       "[array([[1],\n",
       "        [4]]),\n",
       " array([[2],\n",
       "        [5]]),\n",
       " array([[3],\n",
       "        [6]])]"
      ]
     },
     "execution_count": 88,
     "metadata": {},
     "output_type": "execute_result"
    }
   ],
   "source": [
    "#One of the most useful function to split array even if it is not evenly divided. \n",
    "#Very Important to produce Sub-arrays\n",
    "arr=np.array([[1,2,3],[4,5,6]])\n",
    "np.split(arr,3,axis=1)   #This is split function, mostly used to create sub-arrays but it is not able to split unequal array"
   ]
  },
  {
   "cell_type": "code",
   "execution_count": 90,
   "id": "8007794a-021d-4639-9d13-9db47aad8c60",
   "metadata": {},
   "outputs": [
    {
     "data": {
      "text/plain": [
       "[array([[1],\n",
       "        [4]]),\n",
       " array([[2],\n",
       "        [5]]),\n",
       " array([[3],\n",
       "        [6]]),\n",
       " array([], shape=(2, 0), dtype=int64)]"
      ]
     },
     "execution_count": 90,
     "metadata": {},
     "output_type": "execute_result"
    }
   ],
   "source": [
    "#So, to split unequal array divisions we use array.split() function \n",
    "arr=np.array([[1,2,3],[4,5,6]])\n",
    "np.array_split(arr,4,axis=1)   #It is able to construct subarray of 2d array into 4 different sub arrays "
   ]
  },
  {
   "cell_type": "code",
   "execution_count": 91,
   "id": "5666a96a-a055-4c88-b09f-c688efdad127",
   "metadata": {},
   "outputs": [],
   "source": [
    "#Q10  Explain the concepts of vectorization and broadcasting in NumPy. How do they contribute to efficient array operations?"
   ]
  },
  {
   "cell_type": "code",
   "execution_count": 93,
   "id": "9a2600d7-e596-4ebc-b086-84cf404983ff",
   "metadata": {},
   "outputs": [
    {
     "data": {
      "text/plain": [
       "array([[1, 2, 3],\n",
       "       [4, 5, 6],\n",
       "       [7, 8, 9]])"
      ]
     },
     "execution_count": 93,
     "metadata": {},
     "output_type": "execute_result"
    }
   ],
   "source": [
    "#These are one of the most powerful tools in numpy which makes its speed very fast \n",
    "#Vectorization= It is used when we perform operation on array, then instead of going to each element by using loop, vactorization select whole array at a time and perform specified operation at a time to all elements\n",
    "arrv=np.array([[1,2,3],[4,5,6],[7,8,9]])\n",
    "arrv"
   ]
  },
  {
   "cell_type": "code",
   "execution_count": 94,
   "id": "79e93416-8faa-47ed-846c-ea1d59de8cb5",
   "metadata": {},
   "outputs": [
    {
     "data": {
      "text/plain": [
       "array([[ 1,  4,  9],\n",
       "       [16, 25, 36],\n",
       "       [49, 64, 81]])"
      ]
     },
     "execution_count": 94,
     "metadata": {},
     "output_type": "execute_result"
    }
   ],
   "source": [
    "#Vectorization \n",
    "arrv**2   #All elements will be selected automatically and the specified operation of power is performed "
   ]
  },
  {
   "cell_type": "code",
   "execution_count": 95,
   "id": "b3faec23-39af-44bb-9a08-e06dc3dca1f6",
   "metadata": {},
   "outputs": [],
   "source": [
    "#If vectorization is not present, then we have to get to each element from loop and then have to perform operation by using function"
   ]
  },
  {
   "cell_type": "code",
   "execution_count": 96,
   "id": "c2661711-89a2-4d6b-a959-db58ce09c8a3",
   "metadata": {},
   "outputs": [
    {
     "data": {
      "text/plain": [
       "array([[2, 3, 4, 5],\n",
       "       [3, 4, 5, 6],\n",
       "       [4, 5, 6, 7],\n",
       "       [5, 6, 7, 8]])"
      ]
     },
     "execution_count": 96,
     "metadata": {},
     "output_type": "execute_result"
    }
   ],
   "source": [
    "#Broadcasting= This is also one of most powerful function which basically help in adding two arrays even if there dimensions is different\n",
    "arr1=np.array([1,2,3,4])  #size=1\n",
    "arr2=np.array([[1],[2],[3],[4]])  #size=4*1\n",
    "arr1+arr2"
   ]
  },
  {
   "cell_type": "code",
   "execution_count": 97,
   "id": "4c6da4db-c1b2-47e3-90d5-d9cd91b90390",
   "metadata": {},
   "outputs": [],
   "source": [
    "#Above operation is only possible because of broadcasting, it convert arr1 to 4*4 array by strteching \n",
    "#its dimension along row wise, similarly it stretches arr2 column wise to make both 4*4\n",
    "#And then give the result by making them compatible and then adding"
   ]
  },
  {
   "cell_type": "code",
   "execution_count": null,
   "id": "64adb812-8348-4f7b-8e35-4b061c2833c0",
   "metadata": {},
   "outputs": [],
   "source": []
  },
  {
   "cell_type": "code",
   "execution_count": null,
   "id": "bd4320f4-8f99-43a4-887a-9972434e0cfe",
   "metadata": {},
   "outputs": [],
   "source": []
  }
 ],
 "metadata": {
  "kernelspec": {
   "display_name": "Python 3 (ipykernel)",
   "language": "python",
   "name": "python3"
  },
  "language_info": {
   "codemirror_mode": {
    "name": "ipython",
    "version": 3
   },
   "file_extension": ".py",
   "mimetype": "text/x-python",
   "name": "python",
   "nbconvert_exporter": "python",
   "pygments_lexer": "ipython3",
   "version": "3.10.8"
  }
 },
 "nbformat": 4,
 "nbformat_minor": 5
}
